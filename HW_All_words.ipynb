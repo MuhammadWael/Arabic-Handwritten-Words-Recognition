{
  "cells": [
    {
      "cell_type": "markdown",
      "id": "fc59dbb8",
      "metadata": {
        "id": "fc59dbb8"
      },
      "source": [
        "# Week 1: Using CNN to classify Kalimat Dataset"
      ]
    },
    {
      "cell_type": "code",
      "execution_count": null,
      "id": "b0179aa5",
      "metadata": {
        "id": "b0179aa5"
      },
      "outputs": [],
      "source": [
        "import os\n",
        "import zipfile\n",
        "import random\n",
        "import shutil\n",
        "import tensorflow as tf\n",
        "from tensorflow.keras.preprocessing.image import ImageDataGenerator\n",
        "from shutil import copyfile\n",
        "import matplotlib.pyplot as plt"
      ]
    },
    {
      "cell_type": "code",
      "execution_count": null,
      "id": "oA4W-UtCYWt4",
      "metadata": {
        "id": "oA4W-UtCYWt4"
      },
      "outputs": [],
      "source": [
        "# Import the zipfile library\n",
        "import zipfile\n",
        "\n",
        "# Specify the path to the zip file\n",
        "zip_path = \"Kalimat_processed_1.zip\"\n",
        "\n",
        "# Open the zip file in read mode\n",
        "with zipfile.ZipFile(zip_path, 'r') as zip_ref:\n",
        "    # Extract all the files in the zip file\n",
        "    zip_ref.extractall()"
      ]
    },
    {
      "cell_type": "markdown",
      "id": "e3094745",
      "metadata": {
        "id": "e3094745"
      },
      "source": [
        "Now the images are stored within the `/Kalimat_v1` directory. There is a subdirectory for each class/word."
      ]
    },
    {
      "cell_type": "code",
      "execution_count": null,
      "id": "bc3a9fa5",
      "metadata": {
        "colab": {
          "base_uri": "https://localhost:8080/"
        },
        "id": "bc3a9fa5",
        "outputId": "96a0a496-1348-4e8d-89d5-dbb7b8a1399e"
      },
      "outputs": [
        {
          "name": "stdout",
          "output_type": "stream",
          "text": [
            "\n",
            "There are 1514 images in total\n"
          ]
        }
      ],
      "source": [
        "source_path = 'Kalimat'\n",
        "\n",
        "# Make a list of the names of the folders in the source path\n",
        "folders = os.listdir(source_path)\n",
        "# ['Alam', 'Asmaa', 'Dar', 'Dars', 'Farawla', 'Helm', 'Hyah', 'Kitab', 'Nagma', 'Nar', 'Qamar', 'Qita', 'Rasm', 'Roman', 'Sa3a', 'Sahara', 'Samaka', 'Shams', 'Shanta', 'Share3', 'So3ban', 'Thalg', 'Zahb', 'Zaky']\n",
        "source_paths = [os.path.join(source_path, folder) for folder in folders]\n",
        "\n",
        "print(f\"\\nThere are {sum([len(files) for r, d, files in os.walk(source_path)])} images in total\")"
      ]
    },
    {
      "cell_type": "markdown",
      "id": "7e7e2d79",
      "metadata": {
        "id": "7e7e2d79"
      },
      "source": [
        "A Directory for kalimat_dataset, and subdirectories for training\n",
        "and validation. These in turn will need subdirectories for each word."
      ]
    },
    {
      "cell_type": "code",
      "execution_count": null,
      "id": "52ef5808",
      "metadata": {
        "cellView": "code",
        "id": "52ef5808"
      },
      "outputs": [],
      "source": [
        "# Define root directory\n",
        "root_dir = 'kalimat_dataset'\n",
        "\n",
        "# Empty directory to prevent FileExistsError is the function is run several times\n",
        "if os.path.exists(root_dir):\n",
        "  shutil.rmtree(root_dir)\n",
        "\n",
        "def create_train_val_dirs(root_path):\n",
        "  \"\"\"\n",
        "  Creates directories for the train and test sets\n",
        "\n",
        "  Args:\n",
        "    root_path (string) - the base directory path to create subdirectories from\n",
        "\n",
        "  Returns:\n",
        "    None\n",
        "  \"\"\"\n",
        "\n",
        "  sub_dirs = [\"training\", \"validation\"]\n",
        "  sub_subdirs = os.listdir(source_path)\n",
        "\n",
        "  for sub_dir in sub_dirs:\n",
        "    sub_path = os.path.join(root_path, sub_dir)\n",
        "    os.makedirs(sub_path)\n",
        "    for subsub_dir in sub_subdirs:\n",
        "      subsub_path = os.path.join(sub_path, subsub_dir)\n",
        "      os.makedirs(subsub_path)\n",
        "  pass\n",
        "\n",
        "\n",
        "try:\n",
        "  create_train_val_dirs(root_path=root_dir)\n",
        "except FileExistsError:\n",
        "  print(\"You should not be seeing this since the upper directory is removed beforehand\")"
      ]
    },
    {
      "cell_type": "code",
      "execution_count": null,
      "id": "NzETVVl1SqQC",
      "metadata": {
        "colab": {
          "base_uri": "https://localhost:8080/"
        },
        "id": "NzETVVl1SqQC",
        "outputId": "a6020b19-7a86-44b9-b5fa-9498f24cea14"
      },
      "outputs": [
        {
          "name": "stderr",
          "output_type": "stream",
          "text": [
            "Cropping images:   0%|          | 0/46 [00:40<?, ?file/s]\n",
            "Cropping images: 1514file [1:18:23,  5.75s/file]"
          ]
        }
      ],
      "source": [
        "import os\n",
        "from PIL import Image, ImageOps\n",
        "import numpy as np\n",
        "import datetime\n",
        "from tqdm import tqdm\n",
        "\n",
        "progress_bar = tqdm(total=sum([len(files) for r, d, files in os.walk(source_path)]), desc=\"Cropping images\", unit=\"file\")\n",
        "for source_path in source_paths:\n",
        "    if os.path.isdir(source_path):\n",
        "        files = os.listdir(source_path)\n",
        "        for file in files:\n",
        "            img = Image.open(os.path.join(source_path, file))\n",
        "            img = ImageOps.exif_transpose(img)\n",
        "            img_array = np.array(img)\n",
        "            width, height = img.size\n",
        "            x1 = width - 1\n",
        "            x2 = 0\n",
        "            y1 = height - 1\n",
        "            y2 = 0\n",
        "            for y in range(height):\n",
        "                for x in range(width):\n",
        "                    pixel_value = img_array[y, x]\n",
        "                    for i in range(4):\n",
        "                        if(pixel_value[i] != 255):\n",
        "                            x1 = min(x1, x)\n",
        "                            x2 = max(x2, x)\n",
        "                            y1 = min(y1, y)\n",
        "                            y2 = max(y2, y)\n",
        "                        break\n",
        "\n",
        "            cropped_img = img.crop((x1, y1, x2, y2))\n",
        "            cropped_img = cropped_img.resize((64, 32))\n",
        "            cropped_img.save(os.path.join(source_path, file),format=\"PNG\")\n",
        "            progress_bar.update(1)\n",
        "    else:\n",
        "        print(\"Invalid directory path. Please enter a valid directory.\")"
      ]
    },
    {
      "cell_type": "code",
      "execution_count": null,
      "id": "NL3mNUpFUrCc",
      "metadata": {
        "id": "NL3mNUpFUrCc"
      },
      "outputs": [],
      "source": [
        "# prompt: zip Kalimat_v1\n",
        "\n",
        "!zip -r Kalimat_v11.zip /content/Kalimat_v1\n"
      ]
    },
    {
      "cell_type": "code",
      "execution_count": null,
      "id": "5c43b630",
      "metadata": {
        "colab": {
          "base_uri": "https://localhost:8080/"
        },
        "id": "5c43b630",
        "outputId": "d4521e51-0c36-4642-dd11-a01eeeb64cda"
      },
      "outputs": [
        {
          "name": "stdout",
          "output_type": "stream",
          "text": [
            "kalimat_dataset/training\n",
            "kalimat_dataset/validation\n",
            "kalimat_dataset/training/Nar\n",
            "kalimat_dataset/training/Helm\n",
            "kalimat_dataset/training/Rasm\n",
            "kalimat_dataset/training/Kitab\n",
            "kalimat_dataset/training/Dar\n",
            "kalimat_dataset/training/Thalg\n",
            "kalimat_dataset/training/Shanta\n",
            "kalimat_dataset/training/Shams\n",
            "kalimat_dataset/training/Sa3a\n",
            "kalimat_dataset/training/Zahb\n",
            "kalimat_dataset/training/Alam\n",
            "kalimat_dataset/training/Asmaa\n",
            "kalimat_dataset/training/Share3\n",
            "kalimat_dataset/training/Farawla\n",
            "kalimat_dataset/training/Sahara\n",
            "kalimat_dataset/training/Qamar\n",
            "kalimat_dataset/training/Qita\n",
            "kalimat_dataset/training/Dars\n",
            "kalimat_dataset/training/Nagma\n",
            "kalimat_dataset/training/So3ban\n",
            "kalimat_dataset/training/Roman\n",
            "kalimat_dataset/training/Samaka\n",
            "kalimat_dataset/training/Zaky\n",
            "kalimat_dataset/training/Hyah\n",
            "kalimat_dataset/validation/Nar\n",
            "kalimat_dataset/validation/Helm\n",
            "kalimat_dataset/validation/Rasm\n",
            "kalimat_dataset/validation/Kitab\n",
            "kalimat_dataset/validation/Dar\n",
            "kalimat_dataset/validation/Thalg\n",
            "kalimat_dataset/validation/Shanta\n",
            "kalimat_dataset/validation/Shams\n",
            "kalimat_dataset/validation/Sa3a\n",
            "kalimat_dataset/validation/Zahb\n",
            "kalimat_dataset/validation/Alam\n",
            "kalimat_dataset/validation/Asmaa\n",
            "kalimat_dataset/validation/Share3\n",
            "kalimat_dataset/validation/Farawla\n",
            "kalimat_dataset/validation/Sahara\n",
            "kalimat_dataset/validation/Qamar\n",
            "kalimat_dataset/validation/Qita\n",
            "kalimat_dataset/validation/Dars\n",
            "kalimat_dataset/validation/Nagma\n",
            "kalimat_dataset/validation/So3ban\n",
            "kalimat_dataset/validation/Roman\n",
            "kalimat_dataset/validation/Samaka\n",
            "kalimat_dataset/validation/Zaky\n",
            "kalimat_dataset/validation/Hyah\n"
          ]
        }
      ],
      "source": [
        "for rootdir, dirs, files in os.walk(root_dir):\n",
        "    for subdir in dirs:\n",
        "        print(os.path.join(rootdir, subdir))"
      ]
    },
    {
      "cell_type": "code",
      "execution_count": null,
      "id": "51d821b1",
      "metadata": {
        "cellView": "code",
        "id": "51d821b1"
      },
      "outputs": [],
      "source": [
        "def split_data(SOURCE_DIR, TRAINING_DIR, VALIDATION_DIR, SPLIT_SIZE):\n",
        "  \"\"\"\n",
        "  Splits the data into train and test sets\n",
        "  \"\"\"\n",
        "  split_point = int(len(os.listdir(SOURCE_DIR))*SPLIT_SIZE)\n",
        "  source_images = os.listdir(SOURCE_DIR)\n",
        "\n",
        "  random.sample(source_images, len(source_images))\n",
        "\n",
        "  training_images = source_images[:split_point]\n",
        "  validation_images = source_images[split_point:]\n",
        "\n",
        "  for img in training_images:\n",
        "    # Get the img path\n",
        "    source_path = os.path.join(SOURCE_DIR, img)\n",
        "    training_path = os.path.join(TRAINING_DIR, img)\n",
        "    if os.path.getsize(source_path) > 0:\n",
        "      copyfile(source_path, training_path)\n",
        "    else:\n",
        "      print(f\"{img} is zero length, so ignoring.\")\n",
        "\n",
        "  for img in validation_images:\n",
        "    # Get the img path\n",
        "    source_path = os.path.join(SOURCE_DIR, img)\n",
        "    training_path = os.path.join(VALIDATION_DIR, img)\n",
        "    if os.path.getsize(source_path) > 0:\n",
        "      copyfile(source_path, training_path)\n",
        "    else:\n",
        "      print(f\"{img} is zero length, so ignoring.\")\n"
      ]
    },
    {
      "cell_type": "code",
      "execution_count": null,
      "id": "e5a316b6",
      "metadata": {
        "id": "e5a316b6"
      },
      "outputs": [],
      "source": [
        "source_dirs = [os.path.join(source_path, folder) for folder in folders]\n",
        "\n",
        "TRAINING_DIR = \"kalimat_dataset/training/\"\n",
        "VALIDATION_DIR = \"kalimat_dataset/validation/\"\n",
        "\n",
        "training_dirs = [os.path.join(TRAINING_DIR, folder) for folder in folders]\n",
        "validation_dirs = [os.path.join(VALIDATION_DIR, folder) for folder in folders]\n",
        "\n",
        "\n",
        "# Empty directories in case you run this cell multiple times\n",
        "for directory in training_dirs:\n",
        "  if os.path.exists(directory):\n",
        "    shutil.rmtree(directory)\n",
        "    os.makedirs(directory)\n",
        "\n",
        "for directory in validation_dirs:\n",
        "  if os.path.exists(directory):\n",
        "    shutil.rmtree(directory)\n",
        "    os.makedirs(directory)\n",
        "\n",
        "split_size = .7\n",
        "\n",
        "for source, train, val in zip(source_dirs, training_dirs, validation_dirs):\n",
        "    split_data(source, train, val, split_size)"
      ]
    },
    {
      "cell_type": "code",
      "execution_count": null,
      "id": "072bb609",
      "metadata": {
        "cellView": "code",
        "id": "072bb609"
      },
      "outputs": [],
      "source": [
        "def train_val_generators(TRAINING_DIR, VALIDATION_DIR):\n",
        "  \"\"\"\n",
        "  Creates the training and validation data generators\n",
        "\n",
        "  Args:\n",
        "    TRAINING_DIR (string): directory path containing the training images\n",
        "    VALIDATION_DIR (string): directory path containing the testing/validation images\n",
        "\n",
        "  Returns:\n",
        "    train_generator, validation_generator - tuple containing the generators\n",
        "  \"\"\"\n",
        "\n",
        "  train_datagen = ImageDataGenerator(rescale=1.0/255.,\n",
        "                                     rotation_range=5,\n",
        "                                     width_shift_range=0.5,\n",
        "                                     height_shift_range=0.5,\n",
        "                                     shear_range=0.02,\n",
        "                                     zoom_range=0,\n",
        "                                     horizontal_flip=False,\n",
        "                                     vertical_flip=False,\n",
        "                                     fill_mode='nearest'\n",
        "                                     )\n",
        "\n",
        "  # Pass in the appropriate arguments to the flow_from_directory method\n",
        "  train_generator = train_datagen.flow_from_directory(directory=TRAINING_DIR,\n",
        "                                                      batch_size=20,\n",
        "                                                      class_mode='categorical',\n",
        "                                                      target_size=(56, 28))\n",
        "\n",
        "  # Instantiate the ImageDataGenerator class (don't forget to set the rescale argument)\n",
        "  validation_datagen = ImageDataGenerator(rescale=1.0/255.)\n",
        "\n",
        "  # Pass in the appropriate arguments to the flow_from_directory method\n",
        "  validation_generator = validation_datagen.flow_from_directory(directory=VALIDATION_DIR,\n",
        "                                                                batch_size=20,\n",
        "                                                                class_mode='categorical',\n",
        "                                                                target_size=(56, 28))\n",
        "  return train_generator, validation_generator"
      ]
    },
    {
      "cell_type": "code",
      "execution_count": null,
      "id": "642806f1",
      "metadata": {
        "colab": {
          "base_uri": "https://localhost:8080/"
        },
        "id": "642806f1",
        "outputId": "4b11352e-5dbe-476e-d3e5-171e37c417d1"
      },
      "outputs": [
        {
          "name": "stdout",
          "output_type": "stream",
          "text": [
            "Found 1049 images belonging to 24 classes.\n",
            "Found 465 images belonging to 24 classes.\n"
          ]
        }
      ],
      "source": [
        "train_generator, validation_generator = train_val_generators(TRAINING_DIR, VALIDATION_DIR)"
      ]
    },
    {
      "cell_type": "code",
      "execution_count": null,
      "id": "6f375c5d",
      "metadata": {
        "cellView": "code",
        "id": "6f375c5d"
      },
      "outputs": [],
      "source": [
        "def create_model():\n",
        "  model = tf.keras.models.Sequential([\n",
        "      tf.keras.layers.Conv2D(128, (3, 3), activation='relu', input_shape=(56, 28, 3)),\n",
        "      tf.keras.layers.MaxPooling2D(2, 2),\n",
        "      tf.keras.layers.Conv2D(64, (3, 3), activation='relu'),\n",
        "      tf.keras.layers.MaxPooling2D(2, 2),\n",
        "      tf.keras.layers.Flatten(),\n",
        "      tf.keras.layers.Dense(512, activation='relu'),\n",
        "      tf.keras.layers.Dense(256, activation='relu'),\n",
        "      tf.keras.layers.Dense(len(source_dirs), activation='softmax')\n",
        "  ])\n",
        "\n",
        "\n",
        "  model.compile(optimizer=tf.keras.optimizers.Adam(learning_rate=0.001),\n",
        "                loss='categorical_crossentropy',\n",
        "                metrics=['accuracy'])\n",
        "\n",
        "  ### END CODE HERE\n",
        "\n",
        "  return model"
      ]
    },
    {
      "cell_type": "markdown",
      "id": "Mmr1aTV3Y3GJ",
      "metadata": {
        "id": "Mmr1aTV3Y3GJ"
      },
      "source": [
        "## Checkpoint"
      ]
    },
    {
      "cell_type": "code",
      "execution_count": null,
      "id": "ZN4l8jRhY2vv",
      "metadata": {
        "id": "ZN4l8jRhY2vv"
      },
      "outputs": [],
      "source": [
        "checkpoint_path = \"training/cp.ckpt\"\n",
        "checkpoint_dir = os.path.dirname(checkpoint_path)\n",
        "n_batches = 20\n",
        "# Create a callback that saves the model's weights\n",
        "cp_callback = tf.keras.callbacks.ModelCheckpoint(filepath=checkpoint_path,\n",
        "                                                  verbose=1,\n",
        "                                                  save_weights_only=True,\n",
        "                                                  save_freq=30*n_batches)\n"
      ]
    },
    {
      "cell_type": "code",
      "execution_count": null,
      "id": "ckTgR9axh9UK",
      "metadata": {
        "id": "ckTgR9axh9UK"
      },
      "outputs": [],
      "source": [
        "latest = tf.train.latest_checkpoint(checkpoint_dir)"
      ]
    },
    {
      "cell_type": "code",
      "execution_count": null,
      "id": "u3xxFGebcjTo",
      "metadata": {
        "id": "u3xxFGebcjTo"
      },
      "outputs": [],
      "source": [
        "# prompt: Tensorflow Callback function to stop at 99 accuracy or 98 val accuracy\n",
        "\n",
        "class myCallback(tf.keras.callbacks.Callback):\n",
        "  def on_epoch_end(self, epoch, logs={}):\n",
        "    if(logs.get('accuracy') >= 0.99):\n",
        "      print(\"\\nReached 99% accuracy so cancelling training!\")\n",
        "      self.model.stop_training = True\n",
        "    elif(logs.get('val_accuracy') >= 0.98):\n",
        "      print(\"\\nReached 98% validation accuracy so cancelling training!\")\n",
        "      self.model.stop_training = True\n",
        "\n",
        "acc_callback = myCallback()\n"
      ]
    },
    {
      "cell_type": "code",
      "execution_count": null,
      "id": "fedfe6d0",
      "metadata": {
        "colab": {
          "background_save": true,
          "base_uri": "https://localhost:8080/"
        },
        "id": "fedfe6d0",
        "outputId": "707b8249-40d2-4f09-8e66-8bc964911d1e"
      },
      "outputs": [
        {
          "name": "stdout",
          "output_type": "stream",
          "text": [
            "Epoch 1/100\n",
            "53/53 [==============================] - 11s 186ms/step - loss: 0.8915 - accuracy: 0.7112 - val_loss: 0.2348 - val_accuracy: 0.9419\n",
            "Epoch 2/100\n",
            "46/53 [=========================>....] - ETA: 1s - loss: 0.8826 - accuracy: 0.7239\n",
            "Epoch 2: saving model to training/cp.ckpt\n",
            "53/53 [==============================] - 10s 183ms/step - loss: 0.8857 - accuracy: 0.7216 - val_loss: 0.2222 - val_accuracy: 0.9376\n",
            "Epoch 3/100\n",
            "53/53 [==============================] - 13s 246ms/step - loss: 0.8738 - accuracy: 0.7293 - val_loss: 0.1693 - val_accuracy: 0.9527\n",
            "Epoch 4/100\n",
            "53/53 [==============================] - 9s 166ms/step - loss: 0.9091 - accuracy: 0.7054 - val_loss: 0.1776 - val_accuracy: 0.9591\n",
            "Epoch 5/100\n",
            "53/53 [==============================] - 14s 259ms/step - loss: 0.8435 - accuracy: 0.7331 - val_loss: 0.2378 - val_accuracy: 0.9398\n",
            "Epoch 6/100\n",
            "53/53 [==============================] - 10s 182ms/step - loss: 0.8918 - accuracy: 0.7140 - val_loss: 0.2835 - val_accuracy: 0.9204\n",
            "Epoch 7/100\n",
            "53/53 [==============================] - 9s 166ms/step - loss: 0.9147 - accuracy: 0.6997 - val_loss: 0.3349 - val_accuracy: 0.9075\n",
            "Epoch 8/100\n",
            "53/53 [==============================] - 9s 161ms/step - loss: 0.8887 - accuracy: 0.7188 - val_loss: 0.2324 - val_accuracy: 0.9355\n",
            "Epoch 9/100\n",
            "53/53 [==============================] - 8s 149ms/step - loss: 0.8031 - accuracy: 0.7302 - val_loss: 0.3863 - val_accuracy: 0.9140\n",
            "Epoch 10/100\n",
            "53/53 [==============================] - 9s 170ms/step - loss: 0.8870 - accuracy: 0.7131 - val_loss: 0.2231 - val_accuracy: 0.9441\n",
            "Epoch 11/100\n",
            "53/53 [==============================] - 10s 192ms/step - loss: 0.8711 - accuracy: 0.7274 - val_loss: 0.1521 - val_accuracy: 0.9548\n",
            "Epoch 12/100\n",
            "53/53 [==============================] - 8s 158ms/step - loss: 0.8403 - accuracy: 0.7417 - val_loss: 0.1993 - val_accuracy: 0.9505\n",
            "Epoch 13/100\n",
            "53/53 [==============================] - 10s 180ms/step - loss: 0.8537 - accuracy: 0.7178 - val_loss: 0.2077 - val_accuracy: 0.9484\n",
            "Epoch 14/100\n",
            "10/53 [====>.........................] - ETA: 5s - loss: 0.7823 - accuracy: 0.7400\n",
            "Epoch 14: saving model to training/cp.ckpt\n",
            "53/53 [==============================] - 10s 181ms/step - loss: 0.8424 - accuracy: 0.7255 - val_loss: 0.1796 - val_accuracy: 0.9484\n",
            "Epoch 15/100\n",
            "53/53 [==============================] - 8s 156ms/step - loss: 0.7642 - accuracy: 0.7636 - val_loss: 0.2263 - val_accuracy: 0.9312\n",
            "Epoch 16/100\n",
            "53/53 [==============================] - 12s 221ms/step - loss: 0.8968 - accuracy: 0.7274 - val_loss: 0.3079 - val_accuracy: 0.9204\n",
            "Epoch 17/100\n",
            "53/53 [==============================] - 10s 180ms/step - loss: 0.8062 - accuracy: 0.7407 - val_loss: 0.1972 - val_accuracy: 0.9570\n",
            "Epoch 18/100\n",
            "53/53 [==============================] - 9s 170ms/step - loss: 0.8050 - accuracy: 0.7350 - val_loss: 0.1649 - val_accuracy: 0.9484\n",
            "Epoch 19/100\n",
            "53/53 [==============================] - 8s 147ms/step - loss: 0.8355 - accuracy: 0.7350 - val_loss: 0.1974 - val_accuracy: 0.9484\n",
            "Epoch 20/100\n",
            "53/53 [==============================] - 8s 157ms/step - loss: 0.8076 - accuracy: 0.7369 - val_loss: 0.1631 - val_accuracy: 0.9441\n",
            "Epoch 21/100\n",
            "53/53 [==============================] - 9s 177ms/step - loss: 0.8138 - accuracy: 0.7293 - val_loss: 0.1968 - val_accuracy: 0.9376\n",
            "Epoch 22/100\n",
            "53/53 [==============================] - 9s 178ms/step - loss: 0.7808 - accuracy: 0.7483 - val_loss: 0.1931 - val_accuracy: 0.9548\n",
            "Epoch 23/100\n",
            "53/53 [==============================] - 10s 183ms/step - loss: 0.7952 - accuracy: 0.7398 - val_loss: 0.1562 - val_accuracy: 0.9634\n",
            "Epoch 24/100\n",
            "53/53 [==============================] - 9s 162ms/step - loss: 0.8128 - accuracy: 0.7369 - val_loss: 0.2646 - val_accuracy: 0.9269\n",
            "Epoch 25/100\n",
            "27/53 [==============>...............] - ETA: 4s - loss: 0.8395 - accuracy: 0.7259\n",
            "Epoch 25: saving model to training/cp.ckpt\n",
            "53/53 [==============================] - 9s 174ms/step - loss: 0.8719 - accuracy: 0.7197 - val_loss: 0.1755 - val_accuracy: 0.9484\n",
            "Epoch 26/100\n",
            "53/53 [==============================] - 10s 179ms/step - loss: 0.8503 - accuracy: 0.7293 - val_loss: 0.2094 - val_accuracy: 0.9505\n",
            "Epoch 27/100\n",
            "53/53 [==============================] - 9s 161ms/step - loss: 0.7815 - accuracy: 0.7493 - val_loss: 0.3005 - val_accuracy: 0.9226\n",
            "Epoch 28/100\n",
            "53/53 [==============================] - 8s 150ms/step - loss: 0.8104 - accuracy: 0.7350 - val_loss: 0.1806 - val_accuracy: 0.9570\n",
            "Epoch 29/100\n",
            "53/53 [==============================] - 9s 172ms/step - loss: 0.8155 - accuracy: 0.7436 - val_loss: 0.3698 - val_accuracy: 0.9183\n",
            "Epoch 30/100\n",
            "53/53 [==============================] - 9s 170ms/step - loss: 0.7987 - accuracy: 0.7407 - val_loss: 0.2696 - val_accuracy: 0.9247\n",
            "Epoch 31/100\n",
            "53/53 [==============================] - 10s 188ms/step - loss: 0.8159 - accuracy: 0.7340 - val_loss: 0.1805 - val_accuracy: 0.9570\n",
            "Epoch 32/100\n",
            "53/53 [==============================] - 8s 148ms/step - loss: 0.7900 - accuracy: 0.7512 - val_loss: 0.1826 - val_accuracy: 0.9505\n",
            "Epoch 33/100\n",
            "53/53 [==============================] - 8s 160ms/step - loss: 0.8264 - accuracy: 0.7283 - val_loss: 0.2234 - val_accuracy: 0.9398\n",
            "Epoch 34/100\n",
            "53/53 [==============================] - 9s 161ms/step - loss: 0.7676 - accuracy: 0.7474 - val_loss: 0.2323 - val_accuracy: 0.9398\n",
            "Epoch 35/100\n",
            "53/53 [==============================] - 9s 179ms/step - loss: 0.8238 - accuracy: 0.7407 - val_loss: 0.2957 - val_accuracy: 0.9355\n",
            "Epoch 36/100\n",
            "44/53 [=======================>......] - ETA: 1s - loss: 0.7509 - accuracy: 0.7595\n",
            "Epoch 36: saving model to training/cp.ckpt\n",
            "53/53 [==============================] - 10s 180ms/step - loss: 0.7681 - accuracy: 0.7521 - val_loss: 0.1999 - val_accuracy: 0.9548\n",
            "Epoch 37/100\n",
            "53/53 [==============================] - 8s 158ms/step - loss: 0.7933 - accuracy: 0.7436 - val_loss: 0.3165 - val_accuracy: 0.9204\n",
            "Epoch 38/100\n",
            "53/53 [==============================] - 8s 156ms/step - loss: 0.7761 - accuracy: 0.7502 - val_loss: 0.1543 - val_accuracy: 0.9656\n",
            "Epoch 39/100\n",
            "53/53 [==============================] - 8s 156ms/step - loss: 0.7979 - accuracy: 0.7521 - val_loss: 0.2161 - val_accuracy: 0.9548\n",
            "Epoch 40/100\n",
            "53/53 [==============================] - 9s 168ms/step - loss: 0.8244 - accuracy: 0.7245 - val_loss: 0.2130 - val_accuracy: 0.9441\n",
            "Epoch 41/100\n",
            "53/53 [==============================] - 9s 178ms/step - loss: 0.7865 - accuracy: 0.7541 - val_loss: 0.1768 - val_accuracy: 0.9548\n",
            "Epoch 42/100\n",
            "53/53 [==============================] - 8s 159ms/step - loss: 0.8225 - accuracy: 0.7340 - val_loss: 0.1874 - val_accuracy: 0.9656\n",
            "Epoch 43/100\n",
            "53/53 [==============================] - 8s 159ms/step - loss: 0.7805 - accuracy: 0.7531 - val_loss: 0.4002 - val_accuracy: 0.9054\n",
            "Epoch 44/100\n",
            "53/53 [==============================] - 9s 167ms/step - loss: 0.8325 - accuracy: 0.7378 - val_loss: 0.2546 - val_accuracy: 0.9333\n",
            "Epoch 45/100\n",
            "53/53 [==============================] - 10s 181ms/step - loss: 0.7756 - accuracy: 0.7436 - val_loss: 0.2237 - val_accuracy: 0.9484\n",
            "Epoch 46/100\n",
            "53/53 [==============================] - 9s 172ms/step - loss: 0.8098 - accuracy: 0.7359 - val_loss: 0.2077 - val_accuracy: 0.9419\n",
            "Epoch 47/100\n",
            "53/53 [==============================] - 8s 147ms/step - loss: 0.7831 - accuracy: 0.7541 - val_loss: 0.2229 - val_accuracy: 0.9484\n",
            "Epoch 48/100\n",
            " 8/53 [===>..........................] - ETA: 8s - loss: 0.7982 - accuracy: 0.7312\n",
            "Epoch 48: saving model to training/cp.ckpt\n",
            "53/53 [==============================] - 10s 180ms/step - loss: 0.7832 - accuracy: 0.7483 - val_loss: 0.2915 - val_accuracy: 0.9484\n",
            "Epoch 49/100\n",
            "53/53 [==============================] - 10s 180ms/step - loss: 0.7818 - accuracy: 0.7560 - val_loss: 0.2226 - val_accuracy: 0.9527\n",
            "Epoch 50/100\n",
            "53/53 [==============================] - 9s 166ms/step - loss: 0.7649 - accuracy: 0.7512 - val_loss: 0.2057 - val_accuracy: 0.9570\n",
            "Epoch 51/100\n",
            "53/53 [==============================] - 8s 156ms/step - loss: 0.7339 - accuracy: 0.7693 - val_loss: 0.1933 - val_accuracy: 0.9613\n",
            "Epoch 52/100\n",
            "53/53 [==============================] - 8s 146ms/step - loss: 0.7735 - accuracy: 0.7521 - val_loss: 0.2842 - val_accuracy: 0.9376\n",
            "Epoch 53/100\n",
            "53/53 [==============================] - 9s 165ms/step - loss: 0.7648 - accuracy: 0.7664 - val_loss: 0.2270 - val_accuracy: 0.9462\n",
            "Epoch 54/100\n",
            "53/53 [==============================] - 9s 173ms/step - loss: 0.7232 - accuracy: 0.7684 - val_loss: 0.2442 - val_accuracy: 0.9484\n",
            "Epoch 55/100\n",
            "53/53 [==============================] - 9s 162ms/step - loss: 0.7487 - accuracy: 0.7598 - val_loss: 0.2765 - val_accuracy: 0.9419\n",
            "Epoch 56/100\n",
            "53/53 [==============================] - 8s 154ms/step - loss: 0.7886 - accuracy: 0.7474 - val_loss: 0.2326 - val_accuracy: 0.9527\n",
            "Epoch 57/100\n",
            "53/53 [==============================] - 9s 168ms/step - loss: 0.7500 - accuracy: 0.7617 - val_loss: 0.3049 - val_accuracy: 0.9312\n",
            "Epoch 58/100\n",
            "53/53 [==============================] - 9s 175ms/step - loss: 0.7474 - accuracy: 0.7588 - val_loss: 0.2272 - val_accuracy: 0.9548\n",
            "Epoch 59/100\n",
            "25/53 [=============>................] - ETA: 3s - loss: 0.7296 - accuracy: 0.7566\n",
            "Epoch 59: saving model to training/cp.ckpt\n",
            "53/53 [==============================] - 8s 151ms/step - loss: 0.7834 - accuracy: 0.7493 - val_loss: 0.1922 - val_accuracy: 0.9462\n",
            "Epoch 60/100\n",
            "53/53 [==============================] - 8s 148ms/step - loss: 0.7525 - accuracy: 0.7607 - val_loss: 0.1765 - val_accuracy: 0.9656\n",
            "Epoch 61/100\n",
            "53/53 [==============================] - 8s 157ms/step - loss: 0.7736 - accuracy: 0.7598 - val_loss: 0.1898 - val_accuracy: 0.9527\n",
            "Epoch 62/100\n",
            "53/53 [==============================] - 9s 167ms/step - loss: 0.7433 - accuracy: 0.7617 - val_loss: 0.2079 - val_accuracy: 0.9591\n",
            "Epoch 63/100\n",
            "53/53 [==============================] - 9s 167ms/step - loss: 0.7821 - accuracy: 0.7569 - val_loss: 0.2047 - val_accuracy: 0.9419\n",
            "Epoch 64/100\n",
            "53/53 [==============================] - 8s 149ms/step - loss: 0.7980 - accuracy: 0.7388 - val_loss: 0.1696 - val_accuracy: 0.9634\n",
            "Epoch 65/100\n",
            "53/53 [==============================] - 9s 174ms/step - loss: 0.7346 - accuracy: 0.7645 - val_loss: 0.1827 - val_accuracy: 0.9570\n",
            "Epoch 66/100\n",
            "53/53 [==============================] - 9s 168ms/step - loss: 0.7374 - accuracy: 0.7703 - val_loss: 0.2013 - val_accuracy: 0.9462\n",
            "Epoch 67/100\n",
            "53/53 [==============================] - 9s 166ms/step - loss: 0.7324 - accuracy: 0.7636 - val_loss: 0.2204 - val_accuracy: 0.9355\n",
            "Epoch 68/100\n",
            "53/53 [==============================] - 8s 155ms/step - loss: 0.7758 - accuracy: 0.7378 - val_loss: 0.2454 - val_accuracy: 0.9441\n",
            "Epoch 69/100\n",
            "53/53 [==============================] - 8s 154ms/step - loss: 0.7704 - accuracy: 0.7417 - val_loss: 0.2469 - val_accuracy: 0.9398\n",
            "Epoch 70/100\n",
            "42/53 [======================>.......] - ETA: 1s - loss: 0.7938 - accuracy: 0.7346\n",
            "Epoch 70: saving model to training/cp.ckpt\n",
            "53/53 [==============================] - 12s 230ms/step - loss: 0.7983 - accuracy: 0.7369 - val_loss: 0.2460 - val_accuracy: 0.9462\n",
            "Epoch 71/100\n",
            "53/53 [==============================] - 8s 156ms/step - loss: 0.7432 - accuracy: 0.7531 - val_loss: 0.2388 - val_accuracy: 0.9613\n",
            "Epoch 72/100\n",
            "53/53 [==============================] - 9s 162ms/step - loss: 0.7849 - accuracy: 0.7569 - val_loss: 0.1821 - val_accuracy: 0.9613\n",
            "Epoch 73/100\n",
            "53/53 [==============================] - 9s 168ms/step - loss: 0.8109 - accuracy: 0.7445 - val_loss: 0.2390 - val_accuracy: 0.9441\n",
            "Epoch 74/100\n",
            "53/53 [==============================] - 9s 176ms/step - loss: 0.7583 - accuracy: 0.7541 - val_loss: 0.2217 - val_accuracy: 0.9462\n",
            "Epoch 75/100\n",
            "53/53 [==============================] - 10s 181ms/step - loss: 0.7406 - accuracy: 0.7779 - val_loss: 0.2930 - val_accuracy: 0.9376\n",
            "Epoch 76/100\n",
            "53/53 [==============================] - 8s 156ms/step - loss: 0.7509 - accuracy: 0.7655 - val_loss: 0.3005 - val_accuracy: 0.9462\n",
            "Epoch 77/100\n",
            "53/53 [==============================] - 8s 147ms/step - loss: 0.7315 - accuracy: 0.7607 - val_loss: 0.3050 - val_accuracy: 0.9419\n",
            "Epoch 78/100\n",
            "53/53 [==============================] - 9s 164ms/step - loss: 0.7509 - accuracy: 0.7521 - val_loss: 0.2496 - val_accuracy: 0.9462\n",
            "Epoch 79/100\n",
            "53/53 [==============================] - 9s 166ms/step - loss: 0.6995 - accuracy: 0.7779 - val_loss: 0.2985 - val_accuracy: 0.9355\n",
            "Epoch 80/100\n",
            "53/53 [==============================] - 9s 164ms/step - loss: 0.7785 - accuracy: 0.7722 - val_loss: 0.2881 - val_accuracy: 0.9441\n",
            "Epoch 81/100\n",
            "53/53 [==============================] - 9s 168ms/step - loss: 0.7612 - accuracy: 0.7664 - val_loss: 0.2918 - val_accuracy: 0.9376\n",
            "Epoch 82/100\n",
            " 6/53 [==>...........................] - ETA: 6s - loss: 0.5883 - accuracy: 0.8000\n",
            "Epoch 82: saving model to training/cp.ckpt\n",
            "53/53 [==============================] - 9s 160ms/step - loss: 0.7134 - accuracy: 0.7655 - val_loss: 0.3002 - val_accuracy: 0.9484\n",
            "Epoch 83/100\n",
            "53/53 [==============================] - 9s 169ms/step - loss: 0.6807 - accuracy: 0.7779 - val_loss: 0.3775 - val_accuracy: 0.9355\n",
            "Epoch 84/100\n",
            "53/53 [==============================] - 9s 178ms/step - loss: 0.7580 - accuracy: 0.7474 - val_loss: 0.3137 - val_accuracy: 0.9462\n",
            "Epoch 85/100\n",
            "53/53 [==============================] - 9s 172ms/step - loss: 0.7219 - accuracy: 0.7607 - val_loss: 0.4975 - val_accuracy: 0.9054\n",
            "Epoch 86/100\n",
            "53/53 [==============================] - 8s 145ms/step - loss: 0.7791 - accuracy: 0.7626 - val_loss: 0.3587 - val_accuracy: 0.9355\n",
            "Epoch 87/100\n",
            "53/53 [==============================] - 9s 163ms/step - loss: 0.7087 - accuracy: 0.7722 - val_loss: 0.3048 - val_accuracy: 0.9441\n",
            "Epoch 88/100\n",
            "53/53 [==============================] - 9s 164ms/step - loss: 0.7070 - accuracy: 0.7617 - val_loss: 0.3895 - val_accuracy: 0.9290\n",
            "Epoch 89/100\n",
            "53/53 [==============================] - 8s 155ms/step - loss: 0.7822 - accuracy: 0.7541 - val_loss: 0.3594 - val_accuracy: 0.9484\n",
            "Epoch 90/100\n",
            "53/53 [==============================] - 9s 177ms/step - loss: 0.7778 - accuracy: 0.7417 - val_loss: 0.3423 - val_accuracy: 0.9376\n",
            "Epoch 91/100\n",
            "53/53 [==============================] - 9s 164ms/step - loss: 0.7060 - accuracy: 0.7760 - val_loss: 0.3269 - val_accuracy: 0.9398\n",
            "Epoch 92/100\n",
            "53/53 [==============================] - 8s 154ms/step - loss: 0.7333 - accuracy: 0.7684 - val_loss: 0.3014 - val_accuracy: 0.9441\n",
            "Epoch 93/100\n",
            "23/53 [============>.................] - ETA: 3s - loss: 0.7205 - accuracy: 0.7506\n",
            "Epoch 93: saving model to training/cp.ckpt\n",
            "53/53 [==============================] - 8s 148ms/step - loss: 0.7138 - accuracy: 0.7521 - val_loss: 0.3314 - val_accuracy: 0.9333\n",
            "Epoch 94/100\n",
            "53/53 [==============================] - 9s 176ms/step - loss: 0.7457 - accuracy: 0.7664 - val_loss: 0.3838 - val_accuracy: 0.9075\n",
            "Epoch 95/100\n",
            "53/53 [==============================] - 9s 166ms/step - loss: 0.8029 - accuracy: 0.7331 - val_loss: 0.2698 - val_accuracy: 0.9333\n",
            "Epoch 96/100\n",
            "53/53 [==============================] - 8s 154ms/step - loss: 0.6769 - accuracy: 0.7741 - val_loss: 0.2507 - val_accuracy: 0.9548\n",
            "Epoch 97/100\n",
            "53/53 [==============================] - 9s 164ms/step - loss: 0.7747 - accuracy: 0.7464 - val_loss: 0.3245 - val_accuracy: 0.9204\n",
            "Epoch 98/100\n",
            "53/53 [==============================] - 9s 167ms/step - loss: 0.7910 - accuracy: 0.7464 - val_loss: 0.2503 - val_accuracy: 0.9505\n",
            "Epoch 99/100\n",
            "53/53 [==============================] - 9s 167ms/step - loss: 0.7631 - accuracy: 0.7531 - val_loss: 0.3617 - val_accuracy: 0.9183\n",
            "Epoch 100/100\n",
            "53/53 [==============================] - 9s 165ms/step - loss: 0.7098 - accuracy: 0.7588 - val_loss: 0.4169 - val_accuracy: 0.9226\n"
          ]
        }
      ],
      "source": [
        "# Get the untrained model\n",
        "model = create_model()\n",
        "\n",
        "# Load latest weights\n",
        "model.load_weights(latest)\n",
        "# Train the model\n",
        "# Note that this may take some time.\n",
        "history = model.fit(train_generator,\n",
        "                    epochs=100,\n",
        "                    verbose=1,\n",
        "                    validation_data=validation_generator,\n",
        "                    callbacks=[cp_callback,acc_callback])"
      ]
    },
    {
      "cell_type": "code",
      "execution_count": null,
      "id": "6dl31PN8hxG9",
      "metadata": {
        "id": "6dl31PN8hxG9"
      },
      "outputs": [],
      "source": [
        "# Save the weights using the `checkpoint_path` format\n",
        "model.save_weights(checkpoint_path.format(epoch=19))"
      ]
    },
    {
      "cell_type": "code",
      "execution_count": null,
      "id": "_vvfgpVxa26e",
      "metadata": {
        "colab": {
          "base_uri": "https://localhost:8080/"
        },
        "id": "_vvfgpVxa26e",
        "outputId": "ced9a218-0b71-46a7-c477-02c305ca3f46"
      },
      "outputs": [
        {
          "name": "stdout",
          "output_type": "stream",
          "text": [
            "updating: content/training/ (stored 0%)\n",
            "updating: content/training/cp.ckpt.index (deflated 62%)\n",
            "updating: content/training/checkpoint (deflated 38%)\n",
            "updating: content/training/cp.ckpt.data-00000-of-00001 (deflated 15%)\n"
          ]
        }
      ],
      "source": [
        "# prompt: zip\n",
        "\n",
        "!zip -r weights_M1_v1.zip /content/training\n"
      ]
    },
    {
      "cell_type": "code",
      "execution_count": null,
      "id": "70658d4d",
      "metadata": {
        "colab": {
          "base_uri": "https://localhost:8080/",
          "height": 883
        },
        "id": "70658d4d",
        "outputId": "27c679fb-a0e6-4f61-84f0-93f112422204"
      },
      "outputs": [
        {
          "data": {
            "image/png": "[encoded data removed]",
            "text/plain": [
              "<Figure size 640x480 with 1 Axes>"
            ]
          },
          "metadata": {},
          "output_type": "display_data"
        },
        {
          "name": "stdout",
          "output_type": "stream",
          "text": [
            "\n"
          ]
        },
        {
          "data": {
            "image/png": "[encoded data removed]",
            "text/plain": [
              "<Figure size 640x480 with 1 Axes>"
            ]
          },
          "metadata": {},
          "output_type": "display_data"
        }
      ],
      "source": [
        "#-----------------------------------------------------------\n",
        "# Retrieve a list of list results on training and test data\n",
        "# sets for each training epoch\n",
        "#-----------------------------------------------------------\n",
        "acc=history.history['accuracy']\n",
        "val_acc=history.history['val_accuracy']\n",
        "loss=history.history['loss']\n",
        "val_loss=history.history['val_loss']\n",
        "\n",
        "epochs=range(len(acc)) # Get number of epochs\n",
        "\n",
        "#------------------------------------------------\n",
        "# Plot training and validation accuracy per epoch\n",
        "#------------------------------------------------\n",
        "plt.plot(epochs, acc, 'r', \"Training Accuracy\")\n",
        "plt.plot(epochs, val_acc, 'b', \"Validation Accuracy\")\n",
        "plt.title('Training and validation accuracy')\n",
        "plt.show()\n",
        "print(\"\")\n",
        "\n",
        "#------------------------------------------------\n",
        "# Plot training and validation loss per epoch\n",
        "#------------------------------------------------\n",
        "plt.plot(epochs, loss, 'r', \"Training Loss\")\n",
        "plt.plot(epochs, val_loss, 'b', \"Validation Loss\")\n",
        "plt.show()"
      ]
    },
    {
      "cell_type": "markdown",
      "id": "gRUdxGPEj-fU",
      "metadata": {
        "id": "gRUdxGPEj-fU"
      },
      "source": [
        "# Save the entire model"
      ]
    },
    {
      "cell_type": "code",
      "execution_count": null,
      "id": "dBIpJtDMkCqK",
      "metadata": {
        "colab": {
          "base_uri": "https://localhost:8080/"
        },
        "id": "dBIpJtDMkCqK",
        "outputId": "299ec5e3-288d-49ce-f6ed-a9c567ab6327"
      },
      "outputs": [
        {
          "name": "stderr",
          "output_type": "stream",
          "text": [
            "/usr/local/lib/python3.10/dist-packages/keras/src/engine/training.py:3103: UserWarning: You are saving your model as an HDF5 file via `model.save()`. This file format is considered legacy. We recommend using instead the native Keras format, e.g. `model.save('my_model.keras')`.\n",
            "  saving_api.save_model(\n"
          ]
        }
      ],
      "source": [
        "model.save('Kalimat_M1_v2.h5')"
      ]
    },
    {
      "cell_type": "markdown",
      "id": "IwXPIGWZU-Wm",
      "metadata": {
        "id": "IwXPIGWZU-Wm"
      },
      "source": [
        "# Testing the Model"
      ]
    },
    {
      "cell_type": "code",
      "execution_count": null,
      "id": "YJ3IMtvtU9od",
      "metadata": {
        "colab": {
          "base_uri": "https://localhost:8080/",
          "height": 145
        },
        "id": "YJ3IMtvtU9od",
        "outputId": "997b1af7-97db-49f1-f8c0-0281d0639ec3"
      },
      "outputs": [
        {
          "data": {
            "text/html": [
              "\n",
              "     <input type=\"file\" id=\"files-159b07eb-fbcd-4daf-b376-52d8b61f9655\" name=\"files[]\" multiple disabled\n",
              "        style=\"border:none\" />\n",
              "     <output id=\"result-159b07eb-fbcd-4daf-b376-52d8b61f9655\">\n",
              "      Upload widget is only available when the cell has been executed in the\n",
              "      current browser session. Please rerun this cell to enable.\n",
              "      </output>\n",
              "      <script>// Copyright 2017 Google LLC\n",
              "//\n",
              "// Licensed under the Apache License, Version 2.0 (the \"License\");\n",
              "// you may not use this file except in compliance with the License.\n",
              "// You may obtain a copy of the License at\n",
              "//\n",
              "//      http://www.apache.org/licenses/LICENSE-2.0\n",
              "//\n",
              "// Unless required by applicable law or agreed to in writing, software\n",
              "// distributed under the License is distributed on an \"AS IS\" BASIS,\n",
              "// WITHOUT WARRANTIES OR CONDITIONS OF ANY KIND, either express or implied.\n",
              "// See the License for the specific language governing permissions and\n",
              "// limitations under the License.\n",
              "\n",
              "/**\n",
              " * @fileoverview Helpers for google.colab Python module.\n",
              " */\n",
              "(function(scope) {\n",
              "function span(text, styleAttributes = {}) {\n",
              "  const element = document.createElement('span');\n",
              "  element.textContent = text;\n",
              "  for (const key of Object.keys(styleAttributes)) {\n",
              "    element.style[key] = styleAttributes[key];\n",
              "  }\n",
              "  return element;\n",
              "}\n",
              "\n",
              "// Max number of bytes which will be uploaded at a time.\n",
              "const MAX_PAYLOAD_SIZE = 100 * 1024;\n",
              "\n",
              "function _uploadFiles(inputId, outputId) {\n",
              "  const steps = uploadFilesStep(inputId, outputId);\n",
              "  const outputElement = document.getElementById(outputId);\n",
              "  // Cache steps on the outputElement to make it available for the next call\n",
              "  // to uploadFilesContinue from Python.\n",
              "  outputElement.steps = steps;\n",
              "\n",
              "  return _uploadFilesContinue(outputId);\n",
              "}\n",
              "\n",
              "// This is roughly an async generator (not supported in the browser yet),\n",
              "// where there are multiple asynchronous steps and the Python side is going\n",
              "// to poll for completion of each step.\n",
              "// This uses a Promise to block the python side on completion of each step,\n",
              "// then passes the result of the previous step as the input to the next step.\n",
              "function _uploadFilesContinue(outputId) {\n",
              "  const outputElement = document.getElementById(outputId);\n",
              "  const steps = outputElement.steps;\n",
              "\n",
              "  const next = steps.next(outputElement.lastPromiseValue);\n",
              "  return Promise.resolve(next.value.promise).then((value) => {\n",
              "    // Cache the last promise value to make it available to the next\n",
              "    // step of the generator.\n",
              "    outputElement.lastPromiseValue = value;\n",
              "    return next.value.response;\n",
              "  });\n",
              "}\n",
              "\n",
              "/**\n",
              " * Generator function which is called between each async step of the upload\n",
              " * process.\n",
              " * @param {string} inputId Element ID of the input file picker element.\n",
              " * @param {string} outputId Element ID of the output display.\n",
              " * @return {!Iterable<!Object>} Iterable of next steps.\n",
              " */\n",
              "function* uploadFilesStep(inputId, outputId) {\n",
              "  const inputElement = document.getElementById(inputId);\n",
              "  inputElement.disabled = false;\n",
              "\n",
              "  const outputElement = document.getElementById(outputId);\n",
              "  outputElement.innerHTML = '';\n",
              "\n",
              "  const pickedPromise = new Promise((resolve) => {\n",
              "    inputElement.addEventListener('change', (e) => {\n",
              "      resolve(e.target.files);\n",
              "    });\n",
              "  });\n",
              "\n",
              "  const cancel = document.createElement('button');\n",
              "  inputElement.parentElement.appendChild(cancel);\n",
              "  cancel.textContent = 'Cancel upload';\n",
              "  const cancelPromise = new Promise((resolve) => {\n",
              "    cancel.onclick = () => {\n",
              "      resolve(null);\n",
              "    };\n",
              "  });\n",
              "\n",
              "  // Wait for the user to pick the files.\n",
              "  const files = yield {\n",
              "    promise: Promise.race([pickedPromise, cancelPromise]),\n",
              "    response: {\n",
              "      action: 'starting',\n",
              "    }\n",
              "  };\n",
              "\n",
              "  cancel.remove();\n",
              "\n",
              "  // Disable the input element since further picks are not allowed.\n",
              "  inputElement.disabled = true;\n",
              "\n",
              "  if (!files) {\n",
              "    return {\n",
              "      response: {\n",
              "        action: 'complete',\n",
              "      }\n",
              "    };\n",
              "  }\n",
              "\n",
              "  for (const file of files) {\n",
              "    const li = document.createElement('li');\n",
              "    li.append(span(file.name, {fontWeight: 'bold'}));\n",
              "    li.append(span(\n",
              "        `(${file.type || 'n/a'}) - ${file.size} bytes, ` +\n",
              "        `last modified: ${\n",
              "            file.lastModifiedDate ? file.lastModifiedDate.toLocaleDateString() :\n",
              "                                    'n/a'} - `));\n",
              "    const percent = span('0% done');\n",
              "    li.appendChild(percent);\n",
              "\n",
              "    outputElement.appendChild(li);\n",
              "\n",
              "    const fileDataPromise = new Promise((resolve) => {\n",
              "      const reader = new FileReader();\n",
              "      reader.onload = (e) => {\n",
              "        resolve(e.target.result);\n",
              "      };\n",
              "      reader.readAsArrayBuffer(file);\n",
              "    });\n",
              "    // Wait for the data to be ready.\n",
              "    let fileData = yield {\n",
              "      promise: fileDataPromise,\n",
              "      response: {\n",
              "        action: 'continue',\n",
              "      }\n",
              "    };\n",
              "\n",
              "    // Use a chunked sending to avoid message size limits. See b/62115660.\n",
              "    let position = 0;\n",
              "    do {\n",
              "      const length = Math.min(fileData.byteLength - position, MAX_PAYLOAD_SIZE);\n",
              "      const chunk = new Uint8Array(fileData, position, length);\n",
              "      position += length;\n",
              "\n",
              "      const base64 = btoa(String.fromCharCode.apply(null, chunk));\n",
              "      yield {\n",
              "        response: {\n",
              "          action: 'append',\n",
              "          file: file.name,\n",
              "          data: base64,\n",
              "        },\n",
              "      };\n",
              "\n",
              "      let percentDone = fileData.byteLength === 0 ?\n",
              "          100 :\n",
              "          Math.round((position / fileData.byteLength) * 100);\n",
              "      percent.textContent = `${percentDone}% done`;\n",
              "\n",
              "    } while (position < fileData.byteLength);\n",
              "  }\n",
              "\n",
              "  // All done.\n",
              "  yield {\n",
              "    response: {\n",
              "      action: 'complete',\n",
              "    }\n",
              "  };\n",
              "}\n",
              "\n",
              "scope.google = scope.google || {};\n",
              "scope.google.colab = scope.google.colab || {};\n",
              "scope.google.colab._files = {\n",
              "  _uploadFiles,\n",
              "  _uploadFilesContinue,\n",
              "};\n",
              "})(self);\n",
              "</script> "
            ],
            "text/plain": [
              "<IPython.core.display.HTML object>"
            ]
          },
          "metadata": {},
          "output_type": "display_data"
        },
        {
          "name": "stdout",
          "output_type": "stream",
          "text": [
            "Saving frame_00023.png to frame_00023.png\n",
            "1/1 [==============================] - 0s 93ms/step\n",
            "frame_00023.png\n",
            "Predication: Nar\n",
            "Confidence: 100.0%\n"
          ]
        }
      ],
      "source": [
        "import numpy as np\n",
        "from google.colab import files\n",
        "from tensorflow.keras.utils import load_img, img_to_array\n",
        "\n",
        "uploaded = files.upload()\n",
        "al_kalimat = {i : folder for i, folder in enumerate(folders)}\n",
        "loaded_model = tf.keras.models.load_model('Kalimat_M1_v2.h5')\n",
        "\n",
        "for fn in uploaded.keys():\n",
        "\n",
        "  # predicting images\n",
        "  path = fn\n",
        "  img = load_img(path, target_size=(56, 28))\n",
        "  x = img_to_array(img)\n",
        "  x = np.expand_dims(x, axis=0)\n",
        "\n",
        "  images = np.vstack([x])\n",
        "  classes = loaded_model.predict(images, batch_size=10)\n",
        "  print(fn)\n",
        "  print(f\"Predication: {al_kalimat[np.argmax(classes)]}\")\n",
        "  print(f\"Confidence: {np.max(classes)*100}%\")"
      ]
    },
    {
      "cell_type": "code",
      "execution_count": null,
      "id": "_ueEMpOTemYm",
      "metadata": {
        "id": "_ueEMpOTemYm"
      },
      "outputs": [],
      "source": [
        "# prompt: Load the model and run it\n",
        "\n",
        "loaded_model = tf.keras.models.load_model('Model_1_v1.h5')\n",
        "uploaded = files.upload()\n",
        "al_kalimat = {\n",
        "     0: 'علم',\n",
        "     1: 'كتاب',\n",
        "     2: 'نجمة',\n",
        "     3: 'نار',\n",
        "     4: 'قمر',\n",
        "     5: 'قطة',\n",
        "     6: 'رسم',\n",
        "     7: 'شمس',\n",
        "     8: 'ذهب',\n",
        "     9: 'ذكي'\n",
        "}\n",
        "for fn in uploaded.keys():\n",
        "\n",
        "  # predicting images\n",
        "  path = fn\n",
        "  img = load_img(path, target_size=(56, 28))\n",
        "  x = img_to_array(img)\n",
        "  x = np.expand_dims(x, axis=0)\n",
        "\n",
        "  images = np.vstack([x])\n",
        "  classes = loaded_model.predict(images, batch_size=10)\n",
        "  print(fn)\n",
        "  print(f\"Predication: {al_kalimat[np.argmax(classes)]}\")\n",
        "  print(f\"Confidence: {np.max(classes)*100}%\")\n"
      ]
    },
    {
      "cell_type": "code",
      "execution_count": null,
      "id": "eEraDXQteHjg",
      "metadata": {
        "id": "eEraDXQteHjg"
      },
      "outputs": [],
      "source": []
    }
  ],
  "metadata": {
    "accelerator": "GPU",
    "colab": {
      "provenance": []
    },
    "kaggle": {
      "accelerator": "gpu",
      "dataSources": [
        {
          "datasetId": 4394455,
          "sourceId": 7545799,
          "sourceType": "datasetVersion"
        }
      ],
      "dockerImageVersionId": 30648,
      "isGpuEnabled": true,
      "isInternetEnabled": true,
      "language": "python",
      "sourceType": "notebook"
    },
    "kernelspec": {
      "display_name": "Python 3",
      "name": "python3"
    },
    "language_info": {
      "codemirror_mode": {
        "name": "ipython",
        "version": 3
      },
      "file_extension": ".py",
      "mimetype": "text/x-python",
      "name": "python",
      "nbconvert_exporter": "python",
      "pygments_lexer": "ipython3",
      "version": "3.10.13"
    }
  },
  "nbformat": 4,
  "nbformat_minor": 5
}
